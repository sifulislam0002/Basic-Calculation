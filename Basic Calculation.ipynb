{
  "nbformat": 4,
  "nbformat_minor": 0,
  "metadata": {
    "colab": {
      "name": "Task03.ipynb",
      "provenance": [],
      "collapsed_sections": []
    },
    "kernelspec": {
      "name": "python3",
      "display_name": "Python 3"
    },
    "language_info": {
      "name": "python"
    }
  },
  "cells": [
    {
      "cell_type": "code",
      "metadata": {
        "colab": {
          "base_uri": "https://localhost:8080/"
        },
        "id": "78pmz_f4THIX",
        "outputId": "3c5026fa-a57d-4355-c8bf-3c9f025c1b5a"
      },
      "source": [
        "inp1 = input(\"Please Enter Which Math Operation You wants to do? \")\n",
        "num1 = int(input(\"Please Enter Your First Number: \"))\n",
        "num2 = int(input(\"Please Enter Your Second Number: \"))\n",
        "\n",
        "if inp1 == 'addition' or inp1 == '+':\n",
        "  result = num1+num2\n",
        "  print(\"Addition is:\",result)\n",
        "\n",
        "elif inp1 == 'subtraction' or inp1 == '-':\n",
        "  result = num1-num2\n",
        "  print(\"Subtraction is:\",result)\n",
        "\n",
        "elif inp1 == 'multiplication' or inp1 == '*':\n",
        "  result = num1*num2\n",
        "  print(\"Multiplication is:\",result)\n",
        "\n",
        "elif inp1 == 'division' or inp1 == '/':\n",
        "  result = num1/num2\n",
        "  print(\"Division is:\",result)\n",
        "\n",
        "else:\n",
        "  print(\"Wrong input\")\n",
        "\n",
        "Avg = (num1+num2)/2\n",
        "print(\"The average is:\",Avg)"
      ],
      "execution_count": 10,
      "outputs": [
        {
          "output_type": "stream",
          "name": "stdout",
          "text": [
            "Please Enter Which Math Operation You wants to do? /\n",
            "Please Enter Your First Number: 50\n",
            "Please Enter Your Second Number: 25\n",
            "Division is: 2.0\n",
            "The average is: 37.5\n"
          ]
        }
      ]
    }
  ]
}